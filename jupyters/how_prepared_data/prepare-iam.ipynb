{
 "cells": [
  {
   "cell_type": "code",
   "execution_count": 10,
   "metadata": {},
   "outputs": [],
   "source": [
    "import os\n",
    "import re\n",
    "\n",
    "import cv2\n",
    "import numpy as np\n",
    "import pandas as pd"
   ]
  },
  {
   "cell_type": "markdown",
   "metadata": {},
   "source": [
    "1. Download dataset from https://fki.tic.heia-fr.ch/databases/iam-handwriting-database. (ascii, lines, split-indexes)\n",
    "2. Create root directory '../input/iam'\n",
    "3. Put dataset into the root directory and unzip it "
   ]
  },
  {
   "cell_type": "code",
   "execution_count": 29,
   "metadata": {},
   "outputs": [],
   "source": [
    "ROOT = f'../input/iam'"
   ]
  },
  {
   "cell_type": "code",
   "execution_count": 39,
   "metadata": {},
   "outputs": [],
   "source": [
    "train_ids = [line.strip() for line in open(f'{ROOT}/trainset.txt').readlines()]\n",
    "valid1_ids = [line.strip() for line in open(f'{ROOT}/validationset1.txt').readlines()]\n",
    "valid2_ids = [line.strip() for line in open(f'{ROOT}/validationset2.txt').readlines()]\n",
    "test_ids = [line.strip() for line in open(f'{ROOT}/testset.txt').readlines()]\n",
    "\n",
    "def get_stage(image_id):\n",
    "    if image_id in train_ids:\n",
    "        return 'train'\n",
    "    if image_id in valid1_ids:\n",
    "        return 'valid'\n",
    "    if image_id in valid2_ids:\n",
    "        return 'valid'\n",
    "    if image_id in test_ids:\n",
    "        return 'test'\n",
    "    return 'unknown'"
   ]
  },
  {
   "cell_type": "code",
   "execution_count": 44,
   "metadata": {},
   "outputs": [],
   "source": [
    "dataset = []\n",
    "\n",
    "for line in open(f'{ROOT}/ascii/lines.txt').readlines():\n",
    "    line = line.strip()\n",
    "    if line.startswith('#'):\n",
    "        continue\n",
    "        \n",
    "    sample_id, text = re.findall(\n",
    "        r'([\\S]+)\\s\\w+\\s\\d+\\s\\d+\\s\\d+\\s\\d+\\s\\d+\\s\\d+\\s([\\w\\W]+)',\n",
    "        line\n",
    "    )[0]\n",
    "    folder, subfolder, _ = sample_id.split('-')\n",
    "    subfolder = f'{folder}-{subfolder}'\n",
    "    \n",
    "    dataset.append({\n",
    "        'sample_id': sample_id,\n",
    "        'text': text.replace('|', ' ').strip(),\n",
    "        'path': f'iam/images/{folder}/{subfolder}/{sample_id}.png',\n",
    "        'stage': get_stage(sample_id),\n",
    "    })"
   ]
  },
  {
   "cell_type": "code",
   "execution_count": 45,
   "metadata": {},
   "outputs": [
    {
     "data": {
      "text/html": [
       "<div>\n",
       "<style scoped>\n",
       "    .dataframe tbody tr th:only-of-type {\n",
       "        vertical-align: middle;\n",
       "    }\n",
       "\n",
       "    .dataframe tbody tr th {\n",
       "        vertical-align: top;\n",
       "    }\n",
       "\n",
       "    .dataframe thead th {\n",
       "        text-align: right;\n",
       "    }\n",
       "</style>\n",
       "<table border=\"1\" class=\"dataframe\">\n",
       "  <thead>\n",
       "    <tr style=\"text-align: right;\">\n",
       "      <th></th>\n",
       "      <th>path</th>\n",
       "      <th>stage</th>\n",
       "      <th>text</th>\n",
       "    </tr>\n",
       "    <tr>\n",
       "      <th>sample_id</th>\n",
       "      <th></th>\n",
       "      <th></th>\n",
       "      <th></th>\n",
       "    </tr>\n",
       "  </thead>\n",
       "  <tbody>\n",
       "    <tr>\n",
       "      <th>a01-000u-00</th>\n",
       "      <td>iam/images/a01/a01-000u/a01-000u-00.png</td>\n",
       "      <td>train</td>\n",
       "      <td>A MOVE to stop Mr. Gaitskell from</td>\n",
       "    </tr>\n",
       "    <tr>\n",
       "      <th>a01-000u-01</th>\n",
       "      <td>iam/images/a01/a01-000u/a01-000u-01.png</td>\n",
       "      <td>train</td>\n",
       "      <td>nominating any more Labour life Peers</td>\n",
       "    </tr>\n",
       "    <tr>\n",
       "      <th>a01-000u-02</th>\n",
       "      <td>iam/images/a01/a01-000u/a01-000u-02.png</td>\n",
       "      <td>train</td>\n",
       "      <td>is to be made at a meeting of Labour</td>\n",
       "    </tr>\n",
       "  </tbody>\n",
       "</table>\n",
       "</div>"
      ],
      "text/plain": [
       "                                                path  stage  \\\n",
       "sample_id                                                     \n",
       "a01-000u-00  iam/images/a01/a01-000u/a01-000u-00.png  train   \n",
       "a01-000u-01  iam/images/a01/a01-000u/a01-000u-01.png  train   \n",
       "a01-000u-02  iam/images/a01/a01-000u/a01-000u-02.png  train   \n",
       "\n",
       "                                              text  \n",
       "sample_id                                           \n",
       "a01-000u-00      A MOVE to stop Mr. Gaitskell from  \n",
       "a01-000u-01  nominating any more Labour life Peers  \n",
       "a01-000u-02   is to be made at a meeting of Labour  "
      ]
     },
     "execution_count": 45,
     "metadata": {},
     "output_type": "execute_result"
    }
   ],
   "source": [
    "marking = pd.DataFrame(dataset).set_index('sample_id')\n",
    "marking[:3]"
   ]
  },
  {
   "cell_type": "code",
   "execution_count": 47,
   "metadata": {},
   "outputs": [
    {
     "data": {
      "text/plain": [
       "train      6161\n",
       "unknown    3491\n",
       "test       1861\n",
       "valid      1840\n",
       "Name: stage, dtype: int64"
      ]
     },
     "execution_count": 47,
     "metadata": {},
     "output_type": "execute_result"
    }
   ],
   "source": [
    "marking['stage'].value_counts()"
   ]
  },
  {
   "cell_type": "code",
   "execution_count": 48,
   "metadata": {},
   "outputs": [
    {
     "data": {
      "text/plain": [
       "train    6161\n",
       "test     1861\n",
       "valid    1840\n",
       "Name: stage, dtype: int64"
      ]
     },
     "execution_count": 48,
     "metadata": {},
     "output_type": "execute_result"
    }
   ],
   "source": [
    "marking = marking[marking['stage']!='unknown']\n",
    "marking['stage'].value_counts()"
   ]
  },
  {
   "cell_type": "code",
   "execution_count": 25,
   "metadata": {},
   "outputs": [],
   "source": [
    "os.makedirs('prepared_datasets/iam', exist_ok=True)\n",
    "os.makedirs('prepared_datasets/iam/images', exist_ok=True)"
   ]
  },
  {
   "cell_type": "code",
   "execution_count": 50,
   "metadata": {},
   "outputs": [
    {
     "name": "stdout",
     "output_type": "stream",
     "text": [
      "CPU times: user 22.7 ms, sys: 879 µs, total: 23.6 ms\n",
      "Wall time: 942 ms\n"
     ]
    }
   ],
   "source": [
    "%%time\n",
    "\n",
    "!cp -r ../input/iam/lines/* ./prepared_datasets/iam/images/"
   ]
  },
  {
   "cell_type": "code",
   "execution_count": 51,
   "metadata": {},
   "outputs": [
    {
     "name": "stdout",
     "output_type": "stream",
     "text": [
      "iam/images/a04/a04-085/a04-085-04.png\n",
      "stage: train\n",
      "text: BEFORE President Kennedy met Mr.\n",
      "image_shape: (120, 1559, 3)\n"
     ]
    },
    {
     "data": {
      "image/png": "[encoded data removed]",
      "text/plain": [
       "<Figure size 1440x360 with 1 Axes>"
      ]
     },
     "metadata": {},
     "output_type": "display_data"
    }
   ],
   "source": [
    "import matplotlib.pyplot as plt\n",
    "\n",
    "idx = 1234\n",
    "\n",
    "sample = marking.iloc[idx]\n",
    "image_id = sample.name\n",
    "print(sample.path)\n",
    "image = cv2.imread(f'./prepared_datasets/{sample.path}')\n",
    "text = sample['text']\n",
    "\n",
    "print('stage:', sample['stage'])\n",
    "print('text:', text)\n",
    "print('image_shape:', image.shape)\n",
    "\n",
    "plt.figure(num=None, figsize=(12, 3), dpi=120, facecolor='w', edgecolor='k')\n",
    "plt.imshow(image);"
   ]
  },
  {
   "cell_type": "code",
   "execution_count": 53,
   "metadata": {},
   "outputs": [],
   "source": [
    "marking.to_csv('./prepared_datasets/iam/marking.csv')"
   ]
  },
  {
   "cell_type": "code",
   "execution_count": 54,
   "metadata": {},
   "outputs": [
    {
     "name": "stdout",
     "output_type": "stream",
     "text": [
      "images\tmarking.csv\r\n"
     ]
    }
   ],
   "source": [
    "!cd ./prepared_datasets && ls iam"
   ]
  },
  {
   "cell_type": "code",
   "execution_count": 57,
   "metadata": {},
   "outputs": [],
   "source": [
    "!cd ./prepared_datasets && tar -czvf iam.tar.gz iam > /dev/null"
   ]
  },
  {
   "cell_type": "code",
   "execution_count": 58,
   "metadata": {},
   "outputs": [
    {
     "name": "stdout",
     "output_type": "stream",
     "text": [
      "638M\t./prepared_datasets/iam.tar.gz\r\n"
     ]
    }
   ],
   "source": [
    "!du -sh ./prepared_datasets/iam.tar.gz"
   ]
  },
  {
   "cell_type": "code",
   "execution_count": 61,
   "metadata": {},
   "outputs": [
    {
     "name": "stdout",
     "output_type": "stream",
     "text": [
      "Collecting pypiwin32\n",
      "  Using cached https://files.pythonhosted.org/packages/d0/1b/2f292bbd742e369a100c91faa0483172cd91a1a422a6692055ac920946c5/pypiwin32-223-py3-none-any.whl\n",
      "Collecting pywin32>=223 (from pypiwin32)\n",
      "\u001b[31m  Could not find a version that satisfies the requirement pywin32>=223 (from pypiwin32) (from versions: )\u001b[0m\n",
      "\u001b[31mNo matching distribution found for pywin32>=223 (from pypiwin32)\u001b[0m\n"
     ]
    }
   ],
   "source": [
    "!pip install pypiwin32"
   ]
  },
  {
   "cell_type": "code",
   "execution_count": null,
   "metadata": {},
   "outputs": [],
   "source": []
  }
 ],
 "metadata": {
  "kernelspec": {
   "display_name": "Python 3",
   "language": "python",
   "name": "python3"
  },
  "language_info": {
   "codemirror_mode": {
    "name": "ipython",
    "version": 3
   },
   "file_extension": ".py",
   "mimetype": "text/x-python",
   "name": "python",
   "nbconvert_exporter": "python",
   "pygments_lexer": "ipython3",
   "version": "3.6.9"
  }
 },
 "nbformat": 4,
 "nbformat_minor": 2
}
